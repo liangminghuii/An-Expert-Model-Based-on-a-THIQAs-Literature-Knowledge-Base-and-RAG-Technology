{
 "cells": [
  {
   "cell_type": "code",
   "execution_count": 1,
   "id": "6231320e",
   "metadata": {
    "execution": {
     "iopub.execute_input": "2025-08-23T07:53:55.983456Z",
     "iopub.status.busy": "2025-08-23T07:53:55.983037Z",
     "iopub.status.idle": "2025-08-23T07:53:58.904076Z",
     "shell.execute_reply": "2025-08-23T07:53:58.902937Z"
    },
    "papermill": {
     "duration": 2.927029,
     "end_time": "2025-08-23T07:53:58.906059",
     "exception": false,
     "start_time": "2025-08-23T07:53:55.979030",
     "status": "completed"
    },
    "tags": []
   },
   "outputs": [
    {
     "name": "stdout",
     "output_type": "stream",
     "text": [
      "已成功添加custom_id列，文件保存为: /kaggle/working/test100_with_custom_id.xlsx\n",
      "共处理了 99 行数据\n",
      "ID范围: R00001 到 R00099\n",
      "已将现有数据保存到: /kaggle/working/test100_with_custom_id.xlsx\n"
     ]
    }
   ],
   "source": [
    "#将四氢异喹啉生物碱的文献doi和摘要的excel文件加上'custom_id‘\n",
    "import pandas as pd\n",
    "import os\n",
    "\n",
    "# 读取Excel文件\n",
    "input_path = r'/kaggle/input/test-data/test100.xlsx'\n",
    "df = pd.read_excel(input_path)\n",
    "\n",
    "# 检查是否已存在custom_id列，如果不存在则添加\n",
    "if 'custom_id' not in df.columns:\n",
    "    # 为每一行生成自定义格式的ID (R00001, R00002, ...)\n",
    "    df['custom_id'] = [f\"R{str(i+1).zfill(5)}\" for i in range(len(df))]\n",
    "    \n",
    "    # 保存修改后的Excel文件到可写目录\n",
    "    output_path = r'/kaggle/working/test100_with_custom_id.xlsx'\n",
    "    df.to_excel(output_path, index=False)\n",
    "    \n",
    "    print(f\"已成功添加custom_id列，文件保存为: {output_path}\")\n",
    "    print(f\"共处理了 {len(df)} 行数据\")\n",
    "    print(f\"ID范围: {df['custom_id'].iloc[0]} 到 {df['custom_id'].iloc[-1]}\")\n",
    "    \n",
    "    \n",
    "output_path = r'/kaggle/working/test100_with_custom_id.xlsx'\n",
    "df.to_excel(output_path, index=False)\n",
    "print(f\"已将现有数据保存到: {output_path}\")"
   ]
  },
  {
   "cell_type": "code",
   "execution_count": 2,
   "id": "2324249b",
   "metadata": {
    "execution": {
     "iopub.execute_input": "2025-08-23T07:53:58.912922Z",
     "iopub.status.busy": "2025-08-23T07:53:58.912469Z",
     "iopub.status.idle": "2025-08-23T07:53:58.999844Z",
     "shell.execute_reply": "2025-08-23T07:53:58.998861Z"
    },
    "papermill": {
     "duration": 0.092772,
     "end_time": "2025-08-23T07:53:59.001525",
     "exception": false,
     "start_time": "2025-08-23T07:53:58.908753",
     "status": "completed"
    },
    "tags": []
   },
   "outputs": [
    {
     "name": "stderr",
     "output_type": "stream",
     "text": [
      "100%|██████████| 99/99 [00:00<00:00, 10337.23it/s]\n"
     ]
    }
   ],
   "source": [
    "#生成批量推理的jsonl数据集\n",
    "import json\n",
    "\n",
    "import pandas as pd\n",
    "from tqdm import tqdm\n",
    "\n",
    "\n",
    "datas=pd.read_excel(r'/kaggle/working/test100_with_custom_id.xlsx')\n",
    "\n",
    "def generate_prompt(abstract):\n",
    "    return f\"\"\"\n",
    "    请严格遵循以下规则分析这篇摘要：\n",
    "（注意：回答必须使用JSON格式，严格按照下面的输出格式输出，无额外解释。若文献未提及相关内容，字段值应为 `null`）\n",
    "\n",
    "# 判断逻辑\n",
    "1. ​**四氢异喹啉类生物碱判定**​（需同时满足）：\n",
    "   - 明确提及化合物属于\"四氢异喹啉类生物碱\"（tetrahydroisoquinoline alkaloids）或具体亚类（如苄基异喹啉类）\n",
    "   - 排除以下干扰项：\n",
    "     - 单纯提及四氢异喹啉类（无生物碱结构）\n",
    "     - 非四氢异喹啉类生物碱\n",
    "     - 模糊表述（如\"可能含有生物碱\"）\n",
    "\n",
    "2. ​**研究方向判定**​（若`has_tetrahydroisoquinoline_alkaloids`为true）：\n",
    "   - ​**结构鉴定**​：需包含\"分离(isolation)\"和\"结构鉴定(structure elucidation)\"等证据\n",
    "   - ​**活性研究**​：需提供具体靶点名称及实验数据（如IC50）\n",
    "   - ​**生物合成**​：需明确前体、产物、关键酶的三要素\n",
    "\n",
    "# 输出规则\n",
    "1. 字段层级关系：\n",
    "   - `compounds`数组中每个对象必须包含`classification`字段，取值示例：\n",
    "     - benzylisoquinoline alkaloids（苄基异喹啉生物碱）\n",
    "     - 1-benzylisoquinolines alkaloids（1-苄基异喹啉）\n",
    "     - bisbenzylisoquinolines alkaloids（双苄基异喹啉）\n",
    "     - morphinans alkaloids（吗啡烷）\n",
    "     - aporphines alkaloids（阿朴啡）\n",
    "     - protoberberines alkaloids（原小檗碱）\n",
    "     - phthalideisoquinolines alkaloids（苯并菲啶）\n",
    "     - benzophenanthridines alkaloids（苯酞异喹啉）\n",
    "     - protopines alkaloids（原阿片）\n",
    "     - pavines alkaloids\n",
    "     - phenethylisoquinoline alkaloids（苯乙基异喹啉生物碱）\n",
    "     - Amaryllidaceae alkaloids（石蒜科生物碱）\n",
    "     - ipecac alkaloids （吐根生物碱）或 emetine（吐根碱）\n",
    "   - 每个化合物的生物活性(`bioactivity`)和物种来源(`species`)独立关联\n",
    "   - 未被文献明确提及的字段必须设为 `null`\n",
    "\n",
    "2. 数据提取规范：\n",
    "   - 分类名称：必须使用英文术语（如benzylisoquinoline alkaloids）\n",
    "   - 化合物名称：优先使用文献中的命名（如Plumulane A）\n",
    "   - 物种拉丁名：必须使用斜体格式（如 _\"Fissistigma polyanthum\"_）\n",
    "   - 靶点名称：精确到分子级别（如AChE 而非\"抗氧化活性\"）\n",
    "\n",
    "# 输出指定JSON格式结果（严格按照这个格式输出,不需要输出\"reasoning_content\"）\n",
    "{{\n",
    "  \"has_tetrahydroisoquinoline_alkaloids\": true,\n",
    "  \"research_type\": [\"structure\", \"activity\", \"biosynthesis\"],\n",
    "  \"compounds\": [\n",
    "    {{\n",
    "      \"name\": \"Plumulane A\",\n",
    "      \"classification\": \"benzylisoquinoline alkaloids\",\n",
    "      \"species\": {{\n",
    "        \"source\": [\"_Fissistigma polyanthum_\"], \n",
    "        \"part_used\": \"roots\"\n",
    "      }},\n",
    "      \"bioactivity\": [\n",
    "        {{\n",
    "          \"target\": \"EGFR kinase\",\n",
    "          \"mechanism\": \"competitive inhibition\",\n",
    "          \"value\": \"IC50 = 2.3 μM\",\n",
    "          \"cell_line\": \"HepG2\"\n",
    "        }}\n",
    "      ]\n",
    "    }}\n",
    "  ],\n",
    "  \"biosynthesis\": {{\n",
    "    \"routes\": [\n",
    "      {{\n",
    "        \"substrate\": \"geranylgeranyl diphosphate\",\n",
    "        \"product\": \"pendulumine A\",\n",
    "        \"key_enzymes\": [\"CYP719A21\"],\n",
    "        \"evidence\": [\"isotope labeling\"]\n",
    "      }}\n",
    "    ]\n",
    "  }}\n",
    "}}\n",
    "\n",
    "# 待分析摘要：\n",
    "{abstract}\n",
    "\"\"\"\n",
    "\n",
    "output_file = \"./input_abstracts.jsonl\"\n",
    "with open(output_file, 'w', encoding='utf-8') as f:\n",
    "    for i in tqdm(range(len(datas))):\n",
    "        abstract = datas.loc[i, 'Abstract']\n",
    "        custom_id = datas.loc[i, 'custom_id']\n",
    "        jsonl_obj = {\n",
    "            \"custom_id\": f\"{custom_id}\",\n",
    "            \"body\": {\n",
    "                \"messages\": [\n",
    "                    {\n",
    "                        \"role\": \"system\",\n",
    "                        \"content\": \"您作为四氢异喹啉类生物碱的研究专家，您需要根据文献的摘要，锁定关键信息，并输出指定JSON格式结果。\"\n",
    "                    },\n",
    "                    {\n",
    "                        \"role\": \"user\",\n",
    "                        \"content\": generate_prompt(abstract)\n",
    "                    }\n",
    "                ],\n",
    "                \"temperature\": 0.0\n",
    "            }\n",
    "        }\n",
    "        f.write(json.dumps(jsonl_obj, ensure_ascii=False) + '\\n')"
   ]
  },
  {
   "cell_type": "code",
   "execution_count": 3,
   "id": "6cacd592",
   "metadata": {
    "execution": {
     "iopub.execute_input": "2025-08-23T07:53:59.007434Z",
     "iopub.status.busy": "2025-08-23T07:53:59.007062Z",
     "iopub.status.idle": "2025-08-23T07:53:59.023440Z",
     "shell.execute_reply": "2025-08-23T07:53:59.022264Z"
    },
    "papermill": {
     "duration": 0.021118,
     "end_time": "2025-08-23T07:53:59.024978",
     "exception": false,
     "start_time": "2025-08-23T07:53:59.003860",
     "status": "completed"
    },
    "tags": []
   },
   "outputs": [
    {
     "name": "stdout",
     "output_type": "stream",
     "text": [
      "文件中有效JSON数据的行数为: 99\n"
     ]
    }
   ],
   "source": [
    "#检查生成的数据集是否有格式错误\n",
    "import json\n",
    "\n",
    "def check_jsonl_file(file_path):\n",
    "    with open(file_path, \"r\", encoding=\"utf-8\") as file:\n",
    "        total = 0\n",
    "        custom_id_set = set()\n",
    "        for line in file:\n",
    "            if line.strip() == \"\":\n",
    "                continue\n",
    "            try:\n",
    "                line_dict = json.loads(line)\n",
    "            except json.decoder.JSONDecodeError:\n",
    "                raise Exception(f\"批量推理输入文件格式错误，第{total + 1}行非json数据\")\n",
    "            if not line_dict.get(\"custom_id\"):\n",
    "                raise Exception(f\"批量推理输入文件格式错误，第{total + 1}行custom_id不存在\")\n",
    "            if not isinstance(line_dict.get(\"custom_id\"), str):\n",
    "                raise Exception(f\"批量推理输入文件格式错误, 第{total + 1}行custom_id不是string\")\n",
    "            if line_dict.get(\"custom_id\") in custom_id_set:\n",
    "                raise Exception(\n",
    "                    f\"批量推理输入文件格式错误，custom_id={line_dict.get('custom_id', '')}存在重复\"\n",
    "                )\n",
    "            else:\n",
    "                custom_id_set.add(line_dict.get(\"custom_id\"))\n",
    "            if not isinstance(line_dict.get(\"body\", \"\"), dict):\n",
    "                raise Exception(\n",
    "                    f\"批量推理输入文件格式错误，custom_id={line_dict.get('custom_id', '')}的body非json字符串\"\n",
    "                )\n",
    "            total += 1\n",
    "    return total\n",
    "\n",
    "\n",
    "# 替换<YOUR_JSONL_FILE>为你的JSONL文件路径\n",
    "file_path = \"/kaggle/working/input_abstracts.jsonl\"\n",
    "total_lines = check_jsonl_file(file_path)\n",
    "print(f\"文件中有效JSON数据的行数为: {total_lines}\")\n"
   ]
  },
  {
   "cell_type": "code",
   "execution_count": null,
   "id": "5f56d173",
   "metadata": {
    "papermill": {
     "duration": 0.002004,
     "end_time": "2025-08-23T07:53:59.029306",
     "exception": false,
     "start_time": "2025-08-23T07:53:59.027302",
     "status": "completed"
    },
    "tags": []
   },
   "outputs": [],
   "source": []
  }
 ],
 "metadata": {
  "kaggle": {
   "accelerator": "none",
   "dataSources": [
    {
     "datasetId": 8118597,
     "sourceId": 12836681,
     "sourceType": "datasetVersion"
    },
    {
     "datasetId": 8118601,
     "sourceId": 12836685,
     "sourceType": "datasetVersion"
    }
   ],
   "dockerImageVersionId": 31089,
   "isGpuEnabled": false,
   "isInternetEnabled": true,
   "language": "python",
   "sourceType": "notebook"
  },
  "kernelspec": {
   "display_name": "Python 3",
   "language": "python",
   "name": "python3"
  },
  "language_info": {
   "codemirror_mode": {
    "name": "ipython",
    "version": 3
   },
   "file_extension": ".py",
   "mimetype": "text/x-python",
   "name": "python",
   "nbconvert_exporter": "python",
   "pygments_lexer": "ipython3",
   "version": "3.11.13"
  },
  "papermill": {
   "default_parameters": {},
   "duration": 9.743648,
   "end_time": "2025-08-23T07:53:59.652674",
   "environment_variables": {},
   "exception": null,
   "input_path": "__notebook__.ipynb",
   "output_path": "__notebook__.ipynb",
   "parameters": {},
   "start_time": "2025-08-23T07:53:49.909026",
   "version": "2.6.0"
  }
 },
 "nbformat": 4,
 "nbformat_minor": 5
}
